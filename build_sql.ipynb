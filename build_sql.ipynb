{
 "cells": [
  {
   "cell_type": "code",
   "execution_count": 6,
   "metadata": {},
   "outputs": [],
   "source": [
    "import sqlite3\n",
    "import pandas as pd\n",
    "import os"
   ]
  },
  {
   "cell_type": "code",
   "execution_count": 2,
   "metadata": {},
   "outputs": [
    {
     "data": {
      "text/plain": [
       "<sqlite3.Cursor at 0x18c34d15640>"
      ]
     },
     "execution_count": 2,
     "metadata": {},
     "output_type": "execute_result"
    }
   ],
   "source": [
    "db = \"Reviews.db\"\n",
    "if os.path.exists(db):\n",
    "        os.remove(db)\n",
    "con = sqlite3.connect(db)\n",
    "cur = con.cursor()\n",
    "\n",
    "cur.execute('''\n",
    "           CREATE TABLE reviews(\n",
    "                row_number INTEGER PRIMARY KEY,\n",
    "                content TEXT\n",
    "           )\n",
    "           ''')"
   ]
  },
  {
   "cell_type": "code",
   "execution_count": 3,
   "metadata": {},
   "outputs": [],
   "source": [
    "chunk_size = 5000\n",
    "embedding_file = \"embedding_data/embeddings_20k.csv\"\n",
    "chunk_iter = pd.read_csv(embedding_file, usecols=[\"combined\"], chunksize=chunk_size)\n",
    "if chunk_size == None:\n",
    "        chunk_iter = [chunk_iter]"
   ]
  },
  {
   "cell_type": "code",
   "execution_count": 4,
   "metadata": {},
   "outputs": [],
   "source": [
    "chunk_number = 0\n",
    "for df in chunk_iter:\n",
    "    cur.executemany('INSERT INTO reviews (row_number, content) VALUES (?, ?)', enumerate(df.combined, start=chunk_number*(chunk_size)) )\n",
    "    chunk_number += 1"
   ]
  },
  {
   "cell_type": "code",
   "execution_count": 14,
   "metadata": {},
   "outputs": [],
   "source": [
    "res = cur.execute(\"SELECT row_number, content FROM reviews\")\n",
    "res.fetchone()"
   ]
  },
  {
   "cell_type": "code",
   "execution_count": 8,
   "metadata": {},
   "outputs": [],
   "source": [
    "# load first 20000 rows for validation\n",
    "df_check = pd.read_csv(\"embedding_data/embeddings_20k.csv\", usecols=[\"combined\"])"
   ]
  },
  {
   "cell_type": "code",
   "execution_count": 25,
   "metadata": {},
   "outputs": [
    {
     "ename": "ProgrammingError",
     "evalue": "Cannot operate on a closed database.",
     "output_type": "error",
     "traceback": [
      "\u001b[1;31m---------------------------------------------------------------------------\u001b[0m",
      "\u001b[1;31mProgrammingError\u001b[0m                          Traceback (most recent call last)",
      "Cell \u001b[1;32mIn[25], line 2\u001b[0m\n\u001b[0;32m      1\u001b[0m index \u001b[38;5;241m=\u001b[39m \u001b[38;5;241m178\u001b[39m\n\u001b[1;32m----> 2\u001b[0m res \u001b[38;5;241m=\u001b[39m \u001b[43mcur\u001b[49m\u001b[38;5;241;43m.\u001b[39;49m\u001b[43mexecute\u001b[49m\u001b[43m(\u001b[49m\u001b[38;5;124;43m\"\u001b[39;49m\u001b[38;5;124;43mSELECT content FROM reviews WHERE row_number=?\u001b[39;49m\u001b[38;5;124;43m\"\u001b[39;49m\u001b[43m,\u001b[49m\u001b[43m \u001b[49m\u001b[43m(\u001b[49m\u001b[43mindex\u001b[49m\u001b[43m,\u001b[49m\u001b[43m \u001b[49m\u001b[43m)\u001b[49m\u001b[43m)\u001b[49m\n\u001b[0;32m      3\u001b[0m res\u001b[38;5;241m.\u001b[39mfetchone()\n",
      "\u001b[1;31mProgrammingError\u001b[0m: Cannot operate on a closed database."
     ]
    }
   ],
   "source": [
    "index = 178\n",
    "res = cur.execute(\"SELECT content FROM reviews WHERE row_number=?\", (index, ))\n",
    "res.fetchone()"
   ]
  },
  {
   "cell_type": "code",
   "execution_count": 13,
   "metadata": {},
   "outputs": [
    {
     "data": {
      "text/plain": [
       "\"Title: OK; Content: It is OK.  No need to spend money on expensive mints!  It is better to brush one's teeth or chew a Big Red Cinnamon gum.\""
      ]
     },
     "execution_count": 13,
     "metadata": {},
     "output_type": "execute_result"
    }
   ],
   "source": [
    "df_check.combined[index]"
   ]
  },
  {
   "cell_type": "code",
   "execution_count": 23,
   "metadata": {},
   "outputs": [],
   "source": [
    "con.commit()\n",
    "con.close()"
   ]
  },
  {
   "cell_type": "markdown",
   "metadata": {},
   "source": [
    "## Query the database"
   ]
  },
  {
   "cell_type": "code",
   "execution_count": 20,
   "metadata": {},
   "outputs": [],
   "source": [
    "db = \"Reviews.db\"\n",
    "if not os.path.exists(db):\n",
    "        exit(1)\n",
    "con = sqlite3.connect(db)\n",
    "cur = con.cursor()"
   ]
  },
  {
   "cell_type": "code",
   "execution_count": 21,
   "metadata": {},
   "outputs": [
    {
     "data": {
      "text/plain": [
       "\"Summary: Great Toy!|Text: This is just like the ones we played with when we were kids in the sixties!  These are the good old-fashioned kind that are made of hard rubber and BOUNCE!!!  The kids got them in their stockings and have played with them everyday.  They are so tough the ferrets can't even get a good hold on them to chew them up!\""
      ]
     },
     "execution_count": 21,
     "metadata": {},
     "output_type": "execute_result"
    }
   ],
   "source": [
    "index = 267273\n",
    "cur.execute(\"SELECT content FROM reviews WHERE row_number=?\", (index,)).fetchone()[0]"
   ]
  },
  {
   "cell_type": "code",
   "execution_count": 22,
   "metadata": {},
   "outputs": [],
   "source": [
    "con.close()"
   ]
  },
  {
   "cell_type": "code",
   "execution_count": null,
   "metadata": {},
   "outputs": [],
   "source": []
  }
 ],
 "metadata": {
  "kernelspec": {
   "display_name": "GPT_RAG",
   "language": "python",
   "name": "python3"
  },
  "language_info": {
   "codemirror_mode": {
    "name": "ipython",
    "version": 3
   },
   "file_extension": ".py",
   "mimetype": "text/x-python",
   "name": "python",
   "nbconvert_exporter": "python",
   "pygments_lexer": "ipython3",
   "version": "3.11.9"
  }
 },
 "nbformat": 4,
 "nbformat_minor": 2
}
