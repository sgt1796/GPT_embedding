{
 "cells": [
  {
   "cell_type": "code",
   "execution_count": 2,
   "id": "53991deb-f742-447a-882a-7bb2639cc92f",
   "metadata": {},
   "outputs": [],
   "source": [
    "import faiss\n",
    "import numpy as np\n",
    "import pandas as pd"
   ]
  },
  {
   "cell_type": "code",
   "execution_count": 3,
   "id": "2a0cfbf4-d857-457d-840e-bbc97a3eae9f",
   "metadata": {},
   "outputs": [],
   "source": [
    "# Define parameters\n",
    "dimension = 1536  # Dimension of the vectors\n",
    "num_centroids = 96  # Number of centroids (clusters)\n",
    "assert dimension % num_centroids == 0\n",
    "code_size = 8  # Size of PQ codes\n",
    "chunk_size = 10000  # Number of vectors to process in each chunk"
   ]
  },
  {
   "cell_type": "code",
   "execution_count": 32,
   "id": "9e7114ea-57df-4d7e-81e5-ed6675210fac",
   "metadata": {},
   "outputs": [],
   "source": [
    "def load_embeddings_in_chunks(file_path, chunk_size=30000, column=\"embedding\"):\n",
    "    \"\"\"\n",
    "    Load embedding vectors from a CSV file in chunks.\n",
    "    \"\"\"\n",
    "    for chunk in pd.read_csv(file_path, chunksize=chunk_size):\n",
    "        embeddings = chunk[column].apply(eval).apply(lambda x: np.array(x, dtype='f'))\n",
    "        yield np.vstack(embeddings)\n",
    "\n",
    "\n",
    "def build_ivfpq_index(file_path, chunk_size=30000):\n",
    "    \"\"\"\n",
    "    Build an IVFPQ index from embedding vectors loaded in chunks.\n",
    "    \"\"\"\n",
    "    # Create the quantizer (coarse quantizer)\n",
    "    quantizer = faiss.IndexFlatL2(dimension)  # The coarse quantizer\n",
    "    # Create the IVF+PQ index\n",
    "    index = faiss.IndexIVFPQ(quantizer, dimension, num_centroids, code_size, 8)\n",
    "\n",
    "    # Train the index with the first chunk\n",
    "    file_list = load_embeddings_in_chunks(file_path, chunk_size)\n",
    "    first_chunk = next(file_list)\n",
    "    print(\"processing chunk 1...\")\n",
    "    print(len(first_chunk))\n",
    "    faiss.normalize_L2(first_chunk)\n",
    "    index.train(first_chunk)\n",
    "    index.add(first_chunk)\n",
    "    count = 1\n",
    "    # Add the rest of the vectors incrementally\n",
    "    for embeddings in file_list:\n",
    "        count += 1\n",
    "        print(f\"processing chunk {count}...\")\n",
    "        print(len(embeddings))\n",
    "        faiss.normalize_L2(embeddings)\n",
    "        index.add(embeddings)\n",
    "\n",
    "    return index"
   ]
  },
  {
   "cell_type": "code",
   "execution_count": 33,
   "id": "8bde623a-a445-4cd5-9eaa-b9dfb908a3eb",
   "metadata": {},
   "outputs": [
    {
     "name": "stdout",
     "output_type": "stream",
     "text": [
      "processing chunk 1...\n",
      "500\n",
      "processing chunk 2...\n",
      "499\n"
     ]
    }
   ],
   "source": [
    "file_path = \"embedding_1k.csv\"\n",
    "index = build_ivfpq_index(file_path, chunk_size=500)\n",
    "faiss.write_index(index, \"Amazon_fine_food_IVFPQ.faiss\")"
   ]
  },
  {
   "cell_type": "code",
   "execution_count": 25,
   "id": "7e5d9106-db53-4f96-a853-4a49355b7bbd",
   "metadata": {},
   "outputs": [
    {
     "data": {
      "text/plain": [
       "999"
      ]
     },
     "execution_count": 25,
     "metadata": {},
     "output_type": "execute_result"
    }
   ],
   "source": []
  },
  {
   "cell_type": "code",
   "execution_count": 29,
   "id": "653950c1-1396-48d0-aa65-f3065a32518c",
   "metadata": {},
   "outputs": [
    {
     "ename": "NameError",
     "evalue": "name 'df0' is not defined",
     "output_type": "error",
     "traceback": [
      "\u001b[1;31m---------------------------------------------------------------------------\u001b[0m",
      "\u001b[1;31mNameError\u001b[0m                                 Traceback (most recent call last)",
      "Cell \u001b[1;32mIn[29], line 1\u001b[0m\n\u001b[1;32m----> 1\u001b[0m \u001b[43mdf0\u001b[49m\n",
      "\u001b[1;31mNameError\u001b[0m: name 'df0' is not defined"
     ]
    }
   ],
   "source": []
  }
 ],
 "metadata": {
  "kernelspec": {
   "display_name": "Python 3 (ipykernel)",
   "language": "python",
   "name": "python3"
  },
  "language_info": {
   "codemirror_mode": {
    "name": "ipython",
    "version": 3
   },
   "file_extension": ".py",
   "mimetype": "text/x-python",
   "name": "python",
   "nbconvert_exporter": "python",
   "pygments_lexer": "ipython3",
   "version": "3.11.4"
  }
 },
 "nbformat": 4,
 "nbformat_minor": 5
}
