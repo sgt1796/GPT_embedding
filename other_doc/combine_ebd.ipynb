{
 "cells": [
  {
   "cell_type": "code",
   "execution_count": 1,
   "metadata": {},
   "outputs": [],
   "source": [
    "import pandas as pd"
   ]
  },
  {
   "cell_type": "code",
   "execution_count": 2,
   "metadata": {},
   "outputs": [],
   "source": [
    "df1 = pd.read_csv('stories/stories_cn_wpwx_ebd_Jina.csv')\n",
    "df2 = pd.read_csv('stories/stories_cn_oesz_ebd_Jina.csv')"
   ]
  },
  {
   "cell_type": "code",
   "execution_count": null,
   "metadata": {},
   "outputs": [],
   "source": [
    "# Rename columns of df1\n",
    "df1 = df1.rename(columns={\n",
    "    'text': 'content',\n",
    "    'story_url': 'url',\n",
    "    'combined': 'combined',  # Keeping the same if needed, or you can omit it\n",
    "})\n",
    "\n",
    "# Rename columns of df2\n",
    "df2 = df2.rename(columns={\n",
    "    'name': 'title',\n",
    "    'combined': 'combined',  # Keeping the same if needed, or you can omit it\n",
    "})\n",
    "\n",
    "# Drop unwanted columns to keep only the specified columns for each DataFrame\n",
    "df1 = df1[['title', 'category', 'content', 'combined', 'embedding']]\n",
    "df2 = df2[['title', 'category', 'content', 'combined', 'embedding']]\n",
    "\n",
    "print(df1.columns)\n",
    "print(df2.columns)"
   ]
  },
  {
   "cell_type": "code",
   "execution_count": 15,
   "metadata": {},
   "outputs": [
    {
     "data": {
      "text/plain": [
       "(9234, 6)"
      ]
     },
     "execution_count": 15,
     "metadata": {},
     "output_type": "execute_result"
    }
   ],
   "source": [
    "df_all = pd.concat([df1, df2], axis=0, ignore_index=True)\n",
    "df_all.shape"
   ]
  },
  {
   "cell_type": "code",
   "execution_count": 17,
   "metadata": {},
   "outputs": [],
   "source": [
    "df_all.to_csv('stories/stories_cn_ebd_Jina.csv', index=False)"
   ]
  }
 ],
 "metadata": {
  "kernelspec": {
   "display_name": "GPT_RAG",
   "language": "python",
   "name": "python3"
  },
  "language_info": {
   "codemirror_mode": {
    "name": "ipython",
    "version": 3
   },
   "file_extension": ".py",
   "mimetype": "text/x-python",
   "name": "python",
   "nbconvert_exporter": "python",
   "pygments_lexer": "ipython3",
   "version": "3.11.9"
  }
 },
 "nbformat": 4,
 "nbformat_minor": 2
}
