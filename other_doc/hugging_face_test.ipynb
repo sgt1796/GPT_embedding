{
 "cells": [
  {
   "cell_type": "code",
   "execution_count": 1,
   "metadata": {},
   "outputs": [
    {
     "name": "stderr",
     "output_type": "stream",
     "text": [
      "c:\\Users\\sgt17\\.conda\\envs\\GPT_RAG\\Lib\\site-packages\\tqdm\\auto.py:21: TqdmWarning: IProgress not found. Please update jupyter and ipywidgets. See https://ipywidgets.readthedocs.io/en/stable/user_install.html\n",
      "  from .autonotebook import tqdm as notebook_tqdm\n"
     ]
    }
   ],
   "source": [
    "## requires: pytorch, transformer, flash-attn\n",
    "from transformers import AutoModel, AutoTokenizer\n",
    "import torch\n",
    "import torch.nn.functional as F\n",
    "import pandas as pd\n",
    "import numpy as np"
   ]
  },
  {
   "cell_type": "code",
   "execution_count": 2,
   "metadata": {},
   "outputs": [
    {
     "name": "stderr",
     "output_type": "stream",
     "text": [
      "You are attempting to use Flash Attention 2.0 with a model not initialized on GPU. Make sure to move the model to GPU after initializing it on CPU with `model.to('cuda')`.\n",
      "Loading checkpoint shards: 100%|██████████| 2/2 [00:03<00:00,  1.87s/it]\n"
     ]
    },
    {
     "data": {
      "text/plain": [
       "MiniCPMModel(\n",
       "  (embed_tokens): Embedding(122753, 2304)\n",
       "  (layers): ModuleList(\n",
       "    (0-39): 40 x MiniCPMDecoderLayer(\n",
       "      (self_attn): MiniCPMFlashAttention2(\n",
       "        (q_proj): Linear(in_features=2304, out_features=2304, bias=False)\n",
       "        (k_proj): Linear(in_features=2304, out_features=2304, bias=False)\n",
       "        (v_proj): Linear(in_features=2304, out_features=2304, bias=False)\n",
       "        (o_proj): Linear(in_features=2304, out_features=2304, bias=False)\n",
       "        (rotary_emb): MiniCPMRotaryEmbedding()\n",
       "      )\n",
       "      (mlp): MiniCPMMLP(\n",
       "        (gate_proj): Linear(in_features=2304, out_features=5760, bias=False)\n",
       "        (up_proj): Linear(in_features=2304, out_features=5760, bias=False)\n",
       "        (down_proj): Linear(in_features=5760, out_features=2304, bias=False)\n",
       "        (act_fn): SiLU()\n",
       "      )\n",
       "      (input_layernorm): MiniCPMRMSNorm()\n",
       "      (post_attention_layernorm): MiniCPMRMSNorm()\n",
       "    )\n",
       "  )\n",
       "  (norm): MiniCPMRMSNorm()\n",
       ")"
      ]
     },
     "execution_count": 2,
     "metadata": {},
     "output_type": "execute_result"
    }
   ],
   "source": [
    "model_name = \"openbmb/MiniCPM-Embedding\"\n",
    "tokenizer = AutoTokenizer.from_pretrained(model_name)\n",
    "model = AutoModel.from_pretrained(model_name, \n",
    "                                  trust_remote_code=True, \n",
    "                                  attn_implementation=\"flash_attention_2\", \n",
    "                                  torch_dtype=torch.float16).to(\"cuda\")\n",
    "model.eval()"
   ]
  },
  {
   "cell_type": "code",
   "execution_count": 8,
   "metadata": {},
   "outputs": [
    {
     "data": {
      "text/plain": [
       "tensor([[[ -5.5703, -17.1250,  -0.3840,  ...,  -0.7285,   1.3389,   3.2480],\n",
       "         [ -2.2031,  -6.3750,   8.9688,  ...,  -4.9102,  -3.3594,   3.4863],\n",
       "         [  4.1680,  -4.1484,   1.1309,  ...,  -2.8320,  -5.7852,  -0.4636],\n",
       "         ...,\n",
       "         [  4.1562,   2.1934,  -0.9971,  ...,  -1.7559,  -6.4180,  -0.4285],\n",
       "         [  3.4590,   0.4956,  -0.5093,  ...,  -3.2441,  -5.9414,   0.2297],\n",
       "         [  4.0977,  -2.1309,  -1.6572,  ...,  -2.3574,  -6.5664,  -1.1680]],\n",
       "\n",
       "        [[ -5.5703, -17.1250,  -0.3840,  ...,  -0.7285,   1.3389,   3.2480],\n",
       "         [ -2.3281,  -6.4648,   9.0547,  ...,  -4.8359,  -3.3379,   3.4766],\n",
       "         [ -1.2227,  -8.3906,   2.4277,  ...,  -2.2012,  -7.9492,   1.8818],\n",
       "         ...,\n",
       "         [ -1.2764,  -0.7939,   0.7637,  ...,  -0.9521,  -9.0078,   1.6562],\n",
       "         [ -2.9512,  -2.9316,   0.4612,  ...,   0.1503,  -7.5820,   1.1572],\n",
       "         [ -2.1094,  -5.2891,  -0.8242,  ...,  -1.5107,  -8.1719,   1.2773]],\n",
       "\n",
       "        [[ -2.1094,  -6.8438,   8.9688,  ...,  -4.7188,  -2.8691,   3.5098],\n",
       "         [  6.0664,  -4.3164,   0.8384,  ...,   5.0273,  -2.0977,   4.0820],\n",
       "         [  4.8320,  -2.0449,   0.3130,  ...,   4.8906,  -1.7861,   3.4863],\n",
       "         ...,\n",
       "         [  4.1914,  -1.4062,  -0.0614,  ...,   7.2266,  -0.8804,   5.6094],\n",
       "         [  5.4023,  -6.2266,   0.3564,  ...,   6.4102,  -4.5117,   3.9258],\n",
       "         [  6.8750,  -3.9277,  -0.5034,  ...,   6.1250,  -3.0898,   4.0039]]],\n",
       "       device='cuda:0', dtype=torch.float16, grad_fn=<MulBackward0>)"
      ]
     },
     "execution_count": 8,
     "metadata": {},
     "output_type": "execute_result"
    }
   ],
   "source": [
    "query = [\"What is the capital of France?\", \"What is the capital of Italy?\", \"Where is the Eiffel Tower?\"]\n",
    "batch_dict = tokenizer(query, max_length=512, padding=True, truncation=True, return_tensors='pt', return_attention_mask=True).to(\"cuda\")\n",
    "\n",
    "outputs = model(**batch_dict)\n",
    "attention_mask = batch_dict[\"attention_mask\"]\n",
    "hidden = outputs.last_hidden_state\n",
    "hidden"
   ]
  },
  {
   "cell_type": "code",
   "execution_count": 46,
   "metadata": {},
   "outputs": [
    {
     "data": {
      "text/plain": [
       "tensor([[ 3.2854, -0.3959, -0.6500,  ..., -2.6827, -6.2625, -0.2065],\n",
       "        [-2.2898, -3.8697,  0.6259,  ..., -1.3842, -8.1982,  1.8221],\n",
       "        [ 4.9791, -2.4095,  0.4534,  ...,  5.7205, -1.8437,  5.3055]],\n",
       "       device='cuda:0', grad_fn=<DivBackward0>)"
      ]
     },
     "execution_count": 46,
     "metadata": {},
     "output_type": "execute_result"
    }
   ],
   "source": [
    "attention_mask_ = attention_mask * attention_mask.cumsum(dim=1)\n",
    "## add a dimension to the tensor so that it can be multiplied with the hidden states\n",
    "## then use sum to transform into a 1-D tensor \n",
    "s = torch.sum(hidden * attention_mask_.unsqueeze(-1).float(), dim=1)\n",
    "\n",
    "## sum the cumsum attention mask to get the total weight for each sentence in the batch\n",
    "d = attention_mask_.sum(dim=1, keepdim=True).float()\n",
    "\n",
    "## Calculate the weighted average of each sentence\n",
    "reps = s / d\n",
    "\n",
    "reps"
   ]
  },
  {
   "cell_type": "code",
   "execution_count": 45,
   "metadata": {},
   "outputs": [
    {
     "data": {
      "text/plain": [
       "tensor([[36.],\n",
       "        [36.],\n",
       "        [45.]], device='cuda:0')"
      ]
     },
     "execution_count": 45,
     "metadata": {},
     "output_type": "execute_result"
    }
   ],
   "source": [
    "attention_mask_.sum(dim=1, keepdim=True).float()"
   ]
  },
  {
   "cell_type": "code",
   "execution_count": 34,
   "metadata": {},
   "outputs": [
    {
     "data": {
      "text/plain": [
       "tensor([[ 118.2734,  -14.2524,  -23.3992,  ...,  -96.5781, -225.4492,\n",
       "           -7.4358],\n",
       "        [ -82.4316, -139.3105,   22.5315,  ...,  -49.8329, -295.1348,\n",
       "           65.5967],\n",
       "        [ 224.0586, -108.4258,   20.4042,  ...,  257.4219,  -82.9683,\n",
       "          238.7461]], device='cuda:0', grad_fn=<SumBackward1>)"
      ]
     },
     "execution_count": 34,
     "metadata": {},
     "output_type": "execute_result"
    }
   ],
   "source": [
    "torch.sum(hidden * attention_mask_.unsqueeze(-1).float(), dim=1)"
   ]
  },
  {
   "cell_type": "code",
   "execution_count": 61,
   "metadata": {},
   "outputs": [
    {
     "data": {
      "text/plain": [
       "array([[ 0.01396157, -0.00168243, -0.00276215, ..., -0.01140055,\n",
       "        -0.02661312, -0.00087776],\n",
       "       [-0.00965947, -0.01632464,  0.00264028, ..., -0.0058395 ,\n",
       "        -0.03458437,  0.00768673],\n",
       "       [ 0.02103702, -0.01018018,  0.00191576, ...,  0.02416953,\n",
       "        -0.00778995,  0.02241604]], dtype=float32)"
      ]
     },
     "execution_count": 61,
     "metadata": {},
     "output_type": "execute_result"
    }
   ],
   "source": [
    "# Normalize\n",
    "lst = torch.nn.functional.normalize(reps, p=2, dim=1).detach().cpu().numpy()\n",
    "lst"
   ]
  },
  {
   "cell_type": "code",
   "execution_count": 63,
   "metadata": {},
   "outputs": [
    {
     "data": {
      "text/plain": [
       "array([1.        , 1.        , 0.99999994], dtype=float32)"
      ]
     },
     "execution_count": 63,
     "metadata": {},
     "output_type": "execute_result"
    }
   ],
   "source": [
    "## quick check to see if the embeddings are normalized\n",
    "np.linalg.norm(lst, axis=1)"
   ]
  },
  {
   "cell_type": "code",
   "execution_count": 64,
   "metadata": {},
   "outputs": [],
   "source": [
    "def weighted_mean_pooling(hidden, attention_mask):\n",
    "    attention_mask_ = attention_mask * attention_mask.cumsum(dim=1)\n",
    "    s = torch.sum(hidden * attention_mask_.unsqueeze(-1).float(), dim=1)\n",
    "    d = attention_mask_.sum(dim=1, keepdim=True).float()\n",
    "    reps = s / d\n",
    "    return reps\n",
    "\n",
    "@torch.no_grad()\n",
    "def encode(input_texts):\n",
    "    batch_dict = tokenizer(input_texts, max_length=512, padding=True, truncation=True, return_tensors='pt', return_attention_mask=True).to(\"cuda\")\n",
    "    \n",
    "    outputs = model(**batch_dict)\n",
    "    attention_mask = batch_dict[\"attention_mask\"]\n",
    "    hidden = outputs.last_hidden_state\n",
    "\n",
    "    reps = weighted_mean_pooling(hidden, attention_mask)   \n",
    "    embeddings = F.normalize(reps, p=2, dim=1).detach().cpu().numpy()\n",
    "    return embeddings"
   ]
  },
  {
   "cell_type": "code",
   "execution_count": 76,
   "metadata": {},
   "outputs": [
    {
     "name": "stdout",
     "output_type": "stream",
     "text": [
      "Q: What is the capital of France?, A: Paris, sim: 0.5011\n",
      "Q: What is the capital of France?, A: Rome, sim: 0.3838\n",
      "Q: What is the capital of France?, A: Beijing, sim: 0.3836\n",
      "Q: What is the capital of Italy?, A: Paris, sim: 0.3739\n",
      "Q: What is the capital of Italy?, A: Rome, sim: 0.4121\n",
      "Q: What is the capital of Italy?, A: Beijing, sim: 0.3550\n",
      "Q: Where is the Eiffel Tower?, A: Paris, sim: 0.4380\n",
      "Q: Where is the Eiffel Tower?, A: Rome, sim: 0.3241\n",
      "Q: Where is the Eiffel Tower?, A: Beijing, sim: 0.3052\n"
     ]
    }
   ],
   "source": [
    "ans = ['Paris', 'Rome', 'Beijing']\n",
    "\n",
    "# for each question in the query, find the cos similarity with the answer\n",
    "for q in query:\n",
    "    emb = encode([q])\n",
    "    for a in ans:\n",
    "        emb_a = encode([a])\n",
    "        sim = np.dot(emb, emb_a.T)\n",
    "        print(f\"Q: {q}, A: {a}, sim: {sim[0][0]:.4f}\")"
   ]
  },
  {
   "cell_type": "code",
   "execution_count": 5,
   "metadata": {},
   "outputs": [
    {
     "name": "stdout",
     "output_type": "stream",
     "text": [
      "[[0.35365185141563416, 0.18593288958072662]]\n"
     ]
    }
   ],
   "source": [
    "queries = [\"中国的首都是哪里？\"]\n",
    "passages = [\"beijing\", \"shanghai\"]\n",
    "\n",
    "\n",
    "INSTRUCTION = \"Query: \"\n",
    "queries = [INSTRUCTION + query for query in queries]\n",
    "\n",
    "embeddings_query = encode(queries)\n",
    "embeddings_doc = encode(passages)\n",
    "\n",
    "scores = (embeddings_query @ embeddings_doc.T)\n",
    "print(scores.tolist())  # [[0.3535913825035095, 0.18596848845481873]]"
   ]
  },
  {
   "cell_type": "code",
   "execution_count": 81,
   "metadata": {},
   "outputs": [
    {
     "data": {
      "text/html": [
       "<div>\n",
       "<style scoped>\n",
       "    .dataframe tbody tr th:only-of-type {\n",
       "        vertical-align: middle;\n",
       "    }\n",
       "\n",
       "    .dataframe tbody tr th {\n",
       "        vertical-align: top;\n",
       "    }\n",
       "\n",
       "    .dataframe thead th {\n",
       "        text-align: right;\n",
       "    }\n",
       "</style>\n",
       "<table border=\"1\" class=\"dataframe\">\n",
       "  <thead>\n",
       "    <tr style=\"text-align: right;\">\n",
       "      <th></th>\n",
       "      <th>name</th>\n",
       "      <th>url</th>\n",
       "      <th>category</th>\n",
       "      <th>content</th>\n",
       "    </tr>\n",
       "  </thead>\n",
       "  <tbody>\n",
       "    <tr>\n",
       "      <th>0</th>\n",
       "      <td>沙漏的启示_睡前故事</td>\n",
       "      <td>http://www.oesz.cn/shuiqian/11151.html</td>\n",
       "      <td>睡前故事</td>\n",
       "      <td>\\n\\n\\t小男孩弗兰克非常健谈，如果他发现件新鲜东西，肯定会提出许多许多的问题来。他的母亲...</td>\n",
       "    </tr>\n",
       "    <tr>\n",
       "      <th>1</th>\n",
       "      <td>酒爷爷与手套奶奶</td>\n",
       "      <td>http://www.oesz.cn/shuiqian/11150.html</td>\n",
       "      <td>睡前故事</td>\n",
       "      <td>\\n\\n\\t酒爷爷与手套奶奶酒爷爷喝醉了酒，在路上抱了一只小狗回家。醒来后，酒爷爷看见一只小...</td>\n",
       "    </tr>\n",
       "    <tr>\n",
       "      <th>2</th>\n",
       "      <td>南瓜哪儿去了_睡前故事</td>\n",
       "      <td>http://www.oesz.cn/shuiqian/11149.html</td>\n",
       "      <td>睡前故事</td>\n",
       "      <td>\\n\\n\\t南瓜哪儿去了_睡前故事“南瓜?”小兔子说，“请原谅我，我不知道南瓜是你家的，它就...</td>\n",
       "    </tr>\n",
       "    <tr>\n",
       "      <th>3</th>\n",
       "      <td>蜘蛛夫妇的裁缝店</td>\n",
       "      <td>http://www.oesz.cn/shuiqian/11148.html</td>\n",
       "      <td>睡前故事</td>\n",
       "      <td>\\n\\n\\t蜘蛛夫妇的裁缝店蜘蛛先生发现了一个商机，它决定和他的夫人一起开一家裁缝店，蜘蛛太...</td>\n",
       "    </tr>\n",
       "    <tr>\n",
       "      <th>4</th>\n",
       "      <td>知错能改才能进步</td>\n",
       "      <td>http://www.oesz.cn/shuiqian/11147.html</td>\n",
       "      <td>睡前故事</td>\n",
       "      <td>\\n\\n\\t小猫咪咪看着太阳好，于是在外面玩，但是它抓不到蝴蝶，于是看到蜻蜓抓到蝴蝶心里很不...</td>\n",
       "    </tr>\n",
       "    <tr>\n",
       "      <th>...</th>\n",
       "      <td>...</td>\n",
       "      <td>...</td>\n",
       "      <td>...</td>\n",
       "      <td>...</td>\n",
       "    </tr>\n",
       "    <tr>\n",
       "      <th>8111</th>\n",
       "      <td>圆球公主_【公主童话故事】_ 故事大全阅读频道</td>\n",
       "      <td>http://www.oesz.cn/a/gongzhu/855.html</td>\n",
       "      <td>故事大全</td>\n",
       "      <td>\\n\\n\\t有一天，王子照常在院子里的凉台上玩黄金球，抛抛转转。不一会儿，看见一个从来没有见...</td>\n",
       "    </tr>\n",
       "    <tr>\n",
       "      <th>8112</th>\n",
       "      <td>白雪公主</td>\n",
       "      <td>http://www.oesz.cn/a/gongzhu/854.html</td>\n",
       "      <td>故事大全</td>\n",
       "      <td>\\n\\n\\t严冬时节，鹅毛一样的大雪片在天空中到处飞舞着，有一个王后坐在王宫里的一扇窗子边，...</td>\n",
       "    </tr>\n",
       "    <tr>\n",
       "      <th>8113</th>\n",
       "      <td>骄做的公主_【公主童话故事】_ 故事大全阅读频道</td>\n",
       "      <td>http://www.oesz.cn/a/gongzhu/853.html</td>\n",
       "      <td>故事大全</td>\n",
       "      <td>\\n\\n\\t从前有一位非常漂亮的公主，但她也非常的骄做。人们都知道她是一位骄做的公主。很多王...</td>\n",
       "    </tr>\n",
       "    <tr>\n",
       "      <th>8114</th>\n",
       "      <td>苦命姑娘_【公主童话故事】_ 故事大全阅读频道</td>\n",
       "      <td>http://www.oesz.cn/a/gongzhu/852.html</td>\n",
       "      <td>故事大全</td>\n",
       "      <td>\\n\\n\\t苦命姑娘_【公主童话故事】_ 故事大全阅读频道相传，从前一位国王和王后有七个女孩...</td>\n",
       "    </tr>\n",
       "    <tr>\n",
       "      <th>8115</th>\n",
       "      <td>通济桥头公主泪</td>\n",
       "      <td>http://www.oesz.cn/a/gongzhu/851.html</td>\n",
       "      <td>故事大全</td>\n",
       "      <td>\\n\\n\\t通济桥头公主泪跨于盘龙江支流水河上的通济桥，在今书林街口与同仁街口之间，它虽早已...</td>\n",
       "    </tr>\n",
       "  </tbody>\n",
       "</table>\n",
       "<p>8116 rows × 4 columns</p>\n",
       "</div>"
      ],
      "text/plain": [
       "                          name                                     url  \\\n",
       "0                   沙漏的启示_睡前故事  http://www.oesz.cn/shuiqian/11151.html   \n",
       "1                     酒爷爷与手套奶奶  http://www.oesz.cn/shuiqian/11150.html   \n",
       "2                  南瓜哪儿去了_睡前故事  http://www.oesz.cn/shuiqian/11149.html   \n",
       "3                     蜘蛛夫妇的裁缝店  http://www.oesz.cn/shuiqian/11148.html   \n",
       "4                     知错能改才能进步  http://www.oesz.cn/shuiqian/11147.html   \n",
       "...                        ...                                     ...   \n",
       "8111   圆球公主_【公主童话故事】_ 故事大全阅读频道   http://www.oesz.cn/a/gongzhu/855.html   \n",
       "8112                      白雪公主   http://www.oesz.cn/a/gongzhu/854.html   \n",
       "8113  骄做的公主_【公主童话故事】_ 故事大全阅读频道   http://www.oesz.cn/a/gongzhu/853.html   \n",
       "8114   苦命姑娘_【公主童话故事】_ 故事大全阅读频道   http://www.oesz.cn/a/gongzhu/852.html   \n",
       "8115                   通济桥头公主泪   http://www.oesz.cn/a/gongzhu/851.html   \n",
       "\n",
       "     category                                            content  \n",
       "0        睡前故事  \\n\\n\\t小男孩弗兰克非常健谈，如果他发现件新鲜东西，肯定会提出许多许多的问题来。他的母亲...  \n",
       "1        睡前故事  \\n\\n\\t酒爷爷与手套奶奶酒爷爷喝醉了酒，在路上抱了一只小狗回家。醒来后，酒爷爷看见一只小...  \n",
       "2        睡前故事  \\n\\n\\t南瓜哪儿去了_睡前故事“南瓜?”小兔子说，“请原谅我，我不知道南瓜是你家的，它就...  \n",
       "3        睡前故事  \\n\\n\\t蜘蛛夫妇的裁缝店蜘蛛先生发现了一个商机，它决定和他的夫人一起开一家裁缝店，蜘蛛太...  \n",
       "4        睡前故事  \\n\\n\\t小猫咪咪看着太阳好，于是在外面玩，但是它抓不到蝴蝶，于是看到蜻蜓抓到蝴蝶心里很不...  \n",
       "...       ...                                                ...  \n",
       "8111     故事大全  \\n\\n\\t有一天，王子照常在院子里的凉台上玩黄金球，抛抛转转。不一会儿，看见一个从来没有见...  \n",
       "8112     故事大全  \\n\\n\\t严冬时节，鹅毛一样的大雪片在天空中到处飞舞着，有一个王后坐在王宫里的一扇窗子边，...  \n",
       "8113     故事大全  \\n\\n\\t从前有一位非常漂亮的公主，但她也非常的骄做。人们都知道她是一位骄做的公主。很多王...  \n",
       "8114     故事大全  \\n\\n\\t苦命姑娘_【公主童话故事】_ 故事大全阅读频道相传，从前一位国王和王后有七个女孩...  \n",
       "8115     故事大全  \\n\\n\\t通济桥头公主泪跨于盘龙江支流水河上的通济桥，在今书林街口与同仁街口之间，它虽早已...  \n",
       "\n",
       "[8116 rows x 4 columns]"
      ]
     },
     "execution_count": 81,
     "metadata": {},
     "output_type": "execute_result"
    }
   ],
   "source": [
    "df = pd.read_csv(\"stories/stories_cn_oesz.csv\")\n",
    "df"
   ]
  },
  {
   "cell_type": "code",
   "execution_count": 84,
   "metadata": {},
   "outputs": [
    {
     "data": {
      "text/html": [
       "<div>\n",
       "<style scoped>\n",
       "    .dataframe tbody tr th:only-of-type {\n",
       "        vertical-align: middle;\n",
       "    }\n",
       "\n",
       "    .dataframe tbody tr th {\n",
       "        vertical-align: top;\n",
       "    }\n",
       "\n",
       "    .dataframe thead th {\n",
       "        text-align: right;\n",
       "    }\n",
       "</style>\n",
       "<table border=\"1\" class=\"dataframe\">\n",
       "  <thead>\n",
       "    <tr style=\"text-align: right;\">\n",
       "      <th></th>\n",
       "      <th>name</th>\n",
       "      <th>url</th>\n",
       "      <th>category</th>\n",
       "      <th>content</th>\n",
       "      <th>combined</th>\n",
       "    </tr>\n",
       "  </thead>\n",
       "  <tbody>\n",
       "    <tr>\n",
       "      <th>0</th>\n",
       "      <td>沙漏的启示_睡前故事</td>\n",
       "      <td>http://www.oesz.cn/shuiqian/11151.html</td>\n",
       "      <td>睡前故事</td>\n",
       "      <td>\\n\\n\\t小男孩弗兰克非常健谈，如果他发现件新鲜东西，肯定会提出许多许多的问题来。他的母亲...</td>\n",
       "      <td>name: 沙漏的启示_睡前故事|content: 小男孩弗兰克非常健谈，如果他发现件新鲜东...</td>\n",
       "    </tr>\n",
       "    <tr>\n",
       "      <th>1</th>\n",
       "      <td>酒爷爷与手套奶奶</td>\n",
       "      <td>http://www.oesz.cn/shuiqian/11150.html</td>\n",
       "      <td>睡前故事</td>\n",
       "      <td>\\n\\n\\t酒爷爷与手套奶奶酒爷爷喝醉了酒，在路上抱了一只小狗回家。醒来后，酒爷爷看见一只小...</td>\n",
       "      <td>name: 酒爷爷与手套奶奶|content: 酒爷爷与手套奶奶酒爷爷喝醉了酒，在路上抱了一...</td>\n",
       "    </tr>\n",
       "    <tr>\n",
       "      <th>2</th>\n",
       "      <td>南瓜哪儿去了_睡前故事</td>\n",
       "      <td>http://www.oesz.cn/shuiqian/11149.html</td>\n",
       "      <td>睡前故事</td>\n",
       "      <td>\\n\\n\\t南瓜哪儿去了_睡前故事“南瓜?”小兔子说，“请原谅我，我不知道南瓜是你家的，它就...</td>\n",
       "      <td>name: 南瓜哪儿去了_睡前故事|content: 南瓜哪儿去了_睡前故事“南瓜?”小兔子...</td>\n",
       "    </tr>\n",
       "    <tr>\n",
       "      <th>3</th>\n",
       "      <td>蜘蛛夫妇的裁缝店</td>\n",
       "      <td>http://www.oesz.cn/shuiqian/11148.html</td>\n",
       "      <td>睡前故事</td>\n",
       "      <td>\\n\\n\\t蜘蛛夫妇的裁缝店蜘蛛先生发现了一个商机，它决定和他的夫人一起开一家裁缝店，蜘蛛太...</td>\n",
       "      <td>name: 蜘蛛夫妇的裁缝店|content: 蜘蛛夫妇的裁缝店蜘蛛先生发现了一个商机，它决...</td>\n",
       "    </tr>\n",
       "    <tr>\n",
       "      <th>4</th>\n",
       "      <td>知错能改才能进步</td>\n",
       "      <td>http://www.oesz.cn/shuiqian/11147.html</td>\n",
       "      <td>睡前故事</td>\n",
       "      <td>\\n\\n\\t小猫咪咪看着太阳好，于是在外面玩，但是它抓不到蝴蝶，于是看到蜻蜓抓到蝴蝶心里很不...</td>\n",
       "      <td>name: 知错能改才能进步|content: 小猫咪咪看着太阳好，于是在外面玩，但是它抓不...</td>\n",
       "    </tr>\n",
       "    <tr>\n",
       "      <th>...</th>\n",
       "      <td>...</td>\n",
       "      <td>...</td>\n",
       "      <td>...</td>\n",
       "      <td>...</td>\n",
       "      <td>...</td>\n",
       "    </tr>\n",
       "    <tr>\n",
       "      <th>8111</th>\n",
       "      <td>圆球公主_【公主童话故事】_ 故事大全阅读频道</td>\n",
       "      <td>http://www.oesz.cn/a/gongzhu/855.html</td>\n",
       "      <td>故事大全</td>\n",
       "      <td>\\n\\n\\t有一天，王子照常在院子里的凉台上玩黄金球，抛抛转转。不一会儿，看见一个从来没有见...</td>\n",
       "      <td>name: 圆球公主_【公主童话故事】_ 故事大全阅读频道|content: 有一天，王子照...</td>\n",
       "    </tr>\n",
       "    <tr>\n",
       "      <th>8112</th>\n",
       "      <td>白雪公主</td>\n",
       "      <td>http://www.oesz.cn/a/gongzhu/854.html</td>\n",
       "      <td>故事大全</td>\n",
       "      <td>\\n\\n\\t严冬时节，鹅毛一样的大雪片在天空中到处飞舞着，有一个王后坐在王宫里的一扇窗子边，...</td>\n",
       "      <td>name: 白雪公主|content: 严冬时节，鹅毛一样的大雪片在天空中到处飞舞着，有一个...</td>\n",
       "    </tr>\n",
       "    <tr>\n",
       "      <th>8113</th>\n",
       "      <td>骄做的公主_【公主童话故事】_ 故事大全阅读频道</td>\n",
       "      <td>http://www.oesz.cn/a/gongzhu/853.html</td>\n",
       "      <td>故事大全</td>\n",
       "      <td>\\n\\n\\t从前有一位非常漂亮的公主，但她也非常的骄做。人们都知道她是一位骄做的公主。很多王...</td>\n",
       "      <td>name: 骄做的公主_【公主童话故事】_ 故事大全阅读频道|content: 从前有一位非...</td>\n",
       "    </tr>\n",
       "    <tr>\n",
       "      <th>8114</th>\n",
       "      <td>苦命姑娘_【公主童话故事】_ 故事大全阅读频道</td>\n",
       "      <td>http://www.oesz.cn/a/gongzhu/852.html</td>\n",
       "      <td>故事大全</td>\n",
       "      <td>\\n\\n\\t苦命姑娘_【公主童话故事】_ 故事大全阅读频道相传，从前一位国王和王后有七个女孩...</td>\n",
       "      <td>name: 苦命姑娘_【公主童话故事】_ 故事大全阅读频道|content: 苦命姑娘_【公...</td>\n",
       "    </tr>\n",
       "    <tr>\n",
       "      <th>8115</th>\n",
       "      <td>通济桥头公主泪</td>\n",
       "      <td>http://www.oesz.cn/a/gongzhu/851.html</td>\n",
       "      <td>故事大全</td>\n",
       "      <td>\\n\\n\\t通济桥头公主泪跨于盘龙江支流水河上的通济桥，在今书林街口与同仁街口之间，它虽早已...</td>\n",
       "      <td>name: 通济桥头公主泪|content: 通济桥头公主泪跨于盘龙江支流水河上的通济桥，在...</td>\n",
       "    </tr>\n",
       "  </tbody>\n",
       "</table>\n",
       "<p>8116 rows × 5 columns</p>\n",
       "</div>"
      ],
      "text/plain": [
       "                          name                                     url  \\\n",
       "0                   沙漏的启示_睡前故事  http://www.oesz.cn/shuiqian/11151.html   \n",
       "1                     酒爷爷与手套奶奶  http://www.oesz.cn/shuiqian/11150.html   \n",
       "2                  南瓜哪儿去了_睡前故事  http://www.oesz.cn/shuiqian/11149.html   \n",
       "3                     蜘蛛夫妇的裁缝店  http://www.oesz.cn/shuiqian/11148.html   \n",
       "4                     知错能改才能进步  http://www.oesz.cn/shuiqian/11147.html   \n",
       "...                        ...                                     ...   \n",
       "8111   圆球公主_【公主童话故事】_ 故事大全阅读频道   http://www.oesz.cn/a/gongzhu/855.html   \n",
       "8112                      白雪公主   http://www.oesz.cn/a/gongzhu/854.html   \n",
       "8113  骄做的公主_【公主童话故事】_ 故事大全阅读频道   http://www.oesz.cn/a/gongzhu/853.html   \n",
       "8114   苦命姑娘_【公主童话故事】_ 故事大全阅读频道   http://www.oesz.cn/a/gongzhu/852.html   \n",
       "8115                   通济桥头公主泪   http://www.oesz.cn/a/gongzhu/851.html   \n",
       "\n",
       "     category                                            content  \\\n",
       "0        睡前故事  \\n\\n\\t小男孩弗兰克非常健谈，如果他发现件新鲜东西，肯定会提出许多许多的问题来。他的母亲...   \n",
       "1        睡前故事  \\n\\n\\t酒爷爷与手套奶奶酒爷爷喝醉了酒，在路上抱了一只小狗回家。醒来后，酒爷爷看见一只小...   \n",
       "2        睡前故事  \\n\\n\\t南瓜哪儿去了_睡前故事“南瓜?”小兔子说，“请原谅我，我不知道南瓜是你家的，它就...   \n",
       "3        睡前故事  \\n\\n\\t蜘蛛夫妇的裁缝店蜘蛛先生发现了一个商机，它决定和他的夫人一起开一家裁缝店，蜘蛛太...   \n",
       "4        睡前故事  \\n\\n\\t小猫咪咪看着太阳好，于是在外面玩，但是它抓不到蝴蝶，于是看到蜻蜓抓到蝴蝶心里很不...   \n",
       "...       ...                                                ...   \n",
       "8111     故事大全  \\n\\n\\t有一天，王子照常在院子里的凉台上玩黄金球，抛抛转转。不一会儿，看见一个从来没有见...   \n",
       "8112     故事大全  \\n\\n\\t严冬时节，鹅毛一样的大雪片在天空中到处飞舞着，有一个王后坐在王宫里的一扇窗子边，...   \n",
       "8113     故事大全  \\n\\n\\t从前有一位非常漂亮的公主，但她也非常的骄做。人们都知道她是一位骄做的公主。很多王...   \n",
       "8114     故事大全  \\n\\n\\t苦命姑娘_【公主童话故事】_ 故事大全阅读频道相传，从前一位国王和王后有七个女孩...   \n",
       "8115     故事大全  \\n\\n\\t通济桥头公主泪跨于盘龙江支流水河上的通济桥，在今书林街口与同仁街口之间，它虽早已...   \n",
       "\n",
       "                                               combined  \n",
       "0     name: 沙漏的启示_睡前故事|content: 小男孩弗兰克非常健谈，如果他发现件新鲜东...  \n",
       "1     name: 酒爷爷与手套奶奶|content: 酒爷爷与手套奶奶酒爷爷喝醉了酒，在路上抱了一...  \n",
       "2     name: 南瓜哪儿去了_睡前故事|content: 南瓜哪儿去了_睡前故事“南瓜?”小兔子...  \n",
       "3     name: 蜘蛛夫妇的裁缝店|content: 蜘蛛夫妇的裁缝店蜘蛛先生发现了一个商机，它决...  \n",
       "4     name: 知错能改才能进步|content: 小猫咪咪看着太阳好，于是在外面玩，但是它抓不...  \n",
       "...                                                 ...  \n",
       "8111  name: 圆球公主_【公主童话故事】_ 故事大全阅读频道|content: 有一天，王子照...  \n",
       "8112  name: 白雪公主|content: 严冬时节，鹅毛一样的大雪片在天空中到处飞舞着，有一个...  \n",
       "8113  name: 骄做的公主_【公主童话故事】_ 故事大全阅读频道|content: 从前有一位非...  \n",
       "8114  name: 苦命姑娘_【公主童话故事】_ 故事大全阅读频道|content: 苦命姑娘_【公...  \n",
       "8115  name: 通济桥头公主泪|content: 通济桥头公主泪跨于盘龙江支流水河上的通济桥，在...  \n",
       "\n",
       "[8116 rows x 5 columns]"
      ]
     },
     "execution_count": 84,
     "metadata": {},
     "output_type": "execute_result"
    }
   ],
   "source": [
    "columns = ['name', 'content', 'category']\n",
    "df.loc[:, 'combined'] = df.apply(lambda x: '|'.join(f\"{col}: {str(x[col]).strip()}\" for col in columns if pd.notna(x[col])), axis=1)\n",
    "\n",
    "df"
   ]
  },
  {
   "cell_type": "code",
   "execution_count": 87,
   "metadata": {},
   "outputs": [
    {
     "data": {
      "text/html": [
       "<div>\n",
       "<style scoped>\n",
       "    .dataframe tbody tr th:only-of-type {\n",
       "        vertical-align: middle;\n",
       "    }\n",
       "\n",
       "    .dataframe tbody tr th {\n",
       "        vertical-align: top;\n",
       "    }\n",
       "\n",
       "    .dataframe thead th {\n",
       "        text-align: right;\n",
       "    }\n",
       "</style>\n",
       "<table border=\"1\" class=\"dataframe\">\n",
       "  <thead>\n",
       "    <tr style=\"text-align: right;\">\n",
       "      <th></th>\n",
       "      <th>name</th>\n",
       "      <th>url</th>\n",
       "      <th>category</th>\n",
       "      <th>content</th>\n",
       "      <th>combined</th>\n",
       "      <th>embedding</th>\n",
       "    </tr>\n",
       "  </thead>\n",
       "  <tbody>\n",
       "    <tr>\n",
       "      <th>0</th>\n",
       "      <td>沙漏的启示_睡前故事</td>\n",
       "      <td>http://www.oesz.cn/shuiqian/11151.html</td>\n",
       "      <td>睡前故事</td>\n",
       "      <td>\\n\\n\\t小男孩弗兰克非常健谈，如果他发现件新鲜东西，肯定会提出许多许多的问题来。他的母亲...</td>\n",
       "      <td>name: 沙漏的启示_睡前故事|content: 小男孩弗兰克非常健谈，如果他发现件新鲜东...</td>\n",
       "      <td>[-0.00498313, 0.06906862, 0.021018654, -0.0089...</td>\n",
       "    </tr>\n",
       "    <tr>\n",
       "      <th>1</th>\n",
       "      <td>酒爷爷与手套奶奶</td>\n",
       "      <td>http://www.oesz.cn/shuiqian/11150.html</td>\n",
       "      <td>睡前故事</td>\n",
       "      <td>\\n\\n\\t酒爷爷与手套奶奶酒爷爷喝醉了酒，在路上抱了一只小狗回家。醒来后，酒爷爷看见一只小...</td>\n",
       "      <td>name: 酒爷爷与手套奶奶|content: 酒爷爷与手套奶奶酒爷爷喝醉了酒，在路上抱了一...</td>\n",
       "      <td>None</td>\n",
       "    </tr>\n",
       "    <tr>\n",
       "      <th>2</th>\n",
       "      <td>南瓜哪儿去了_睡前故事</td>\n",
       "      <td>http://www.oesz.cn/shuiqian/11149.html</td>\n",
       "      <td>睡前故事</td>\n",
       "      <td>\\n\\n\\t南瓜哪儿去了_睡前故事“南瓜?”小兔子说，“请原谅我，我不知道南瓜是你家的，它就...</td>\n",
       "      <td>name: 南瓜哪儿去了_睡前故事|content: 南瓜哪儿去了_睡前故事“南瓜?”小兔子...</td>\n",
       "      <td>None</td>\n",
       "    </tr>\n",
       "    <tr>\n",
       "      <th>3</th>\n",
       "      <td>蜘蛛夫妇的裁缝店</td>\n",
       "      <td>http://www.oesz.cn/shuiqian/11148.html</td>\n",
       "      <td>睡前故事</td>\n",
       "      <td>\\n\\n\\t蜘蛛夫妇的裁缝店蜘蛛先生发现了一个商机，它决定和他的夫人一起开一家裁缝店，蜘蛛太...</td>\n",
       "      <td>name: 蜘蛛夫妇的裁缝店|content: 蜘蛛夫妇的裁缝店蜘蛛先生发现了一个商机，它决...</td>\n",
       "      <td>None</td>\n",
       "    </tr>\n",
       "    <tr>\n",
       "      <th>4</th>\n",
       "      <td>知错能改才能进步</td>\n",
       "      <td>http://www.oesz.cn/shuiqian/11147.html</td>\n",
       "      <td>睡前故事</td>\n",
       "      <td>\\n\\n\\t小猫咪咪看着太阳好，于是在外面玩，但是它抓不到蝴蝶，于是看到蜻蜓抓到蝴蝶心里很不...</td>\n",
       "      <td>name: 知错能改才能进步|content: 小猫咪咪看着太阳好，于是在外面玩，但是它抓不...</td>\n",
       "      <td>None</td>\n",
       "    </tr>\n",
       "    <tr>\n",
       "      <th>...</th>\n",
       "      <td>...</td>\n",
       "      <td>...</td>\n",
       "      <td>...</td>\n",
       "      <td>...</td>\n",
       "      <td>...</td>\n",
       "      <td>...</td>\n",
       "    </tr>\n",
       "    <tr>\n",
       "      <th>8111</th>\n",
       "      <td>圆球公主_【公主童话故事】_ 故事大全阅读频道</td>\n",
       "      <td>http://www.oesz.cn/a/gongzhu/855.html</td>\n",
       "      <td>故事大全</td>\n",
       "      <td>\\n\\n\\t有一天，王子照常在院子里的凉台上玩黄金球，抛抛转转。不一会儿，看见一个从来没有见...</td>\n",
       "      <td>name: 圆球公主_【公主童话故事】_ 故事大全阅读频道|content: 有一天，王子照...</td>\n",
       "      <td>None</td>\n",
       "    </tr>\n",
       "    <tr>\n",
       "      <th>8112</th>\n",
       "      <td>白雪公主</td>\n",
       "      <td>http://www.oesz.cn/a/gongzhu/854.html</td>\n",
       "      <td>故事大全</td>\n",
       "      <td>\\n\\n\\t严冬时节，鹅毛一样的大雪片在天空中到处飞舞着，有一个王后坐在王宫里的一扇窗子边，...</td>\n",
       "      <td>name: 白雪公主|content: 严冬时节，鹅毛一样的大雪片在天空中到处飞舞着，有一个...</td>\n",
       "      <td>None</td>\n",
       "    </tr>\n",
       "    <tr>\n",
       "      <th>8113</th>\n",
       "      <td>骄做的公主_【公主童话故事】_ 故事大全阅读频道</td>\n",
       "      <td>http://www.oesz.cn/a/gongzhu/853.html</td>\n",
       "      <td>故事大全</td>\n",
       "      <td>\\n\\n\\t从前有一位非常漂亮的公主，但她也非常的骄做。人们都知道她是一位骄做的公主。很多王...</td>\n",
       "      <td>name: 骄做的公主_【公主童话故事】_ 故事大全阅读频道|content: 从前有一位非...</td>\n",
       "      <td>None</td>\n",
       "    </tr>\n",
       "    <tr>\n",
       "      <th>8114</th>\n",
       "      <td>苦命姑娘_【公主童话故事】_ 故事大全阅读频道</td>\n",
       "      <td>http://www.oesz.cn/a/gongzhu/852.html</td>\n",
       "      <td>故事大全</td>\n",
       "      <td>\\n\\n\\t苦命姑娘_【公主童话故事】_ 故事大全阅读频道相传，从前一位国王和王后有七个女孩...</td>\n",
       "      <td>name: 苦命姑娘_【公主童话故事】_ 故事大全阅读频道|content: 苦命姑娘_【公...</td>\n",
       "      <td>None</td>\n",
       "    </tr>\n",
       "    <tr>\n",
       "      <th>8115</th>\n",
       "      <td>通济桥头公主泪</td>\n",
       "      <td>http://www.oesz.cn/a/gongzhu/851.html</td>\n",
       "      <td>故事大全</td>\n",
       "      <td>\\n\\n\\t通济桥头公主泪跨于盘龙江支流水河上的通济桥，在今书林街口与同仁街口之间，它虽早已...</td>\n",
       "      <td>name: 通济桥头公主泪|content: 通济桥头公主泪跨于盘龙江支流水河上的通济桥，在...</td>\n",
       "      <td>None</td>\n",
       "    </tr>\n",
       "  </tbody>\n",
       "</table>\n",
       "<p>8116 rows × 6 columns</p>\n",
       "</div>"
      ],
      "text/plain": [
       "                          name                                     url  \\\n",
       "0                   沙漏的启示_睡前故事  http://www.oesz.cn/shuiqian/11151.html   \n",
       "1                     酒爷爷与手套奶奶  http://www.oesz.cn/shuiqian/11150.html   \n",
       "2                  南瓜哪儿去了_睡前故事  http://www.oesz.cn/shuiqian/11149.html   \n",
       "3                     蜘蛛夫妇的裁缝店  http://www.oesz.cn/shuiqian/11148.html   \n",
       "4                     知错能改才能进步  http://www.oesz.cn/shuiqian/11147.html   \n",
       "...                        ...                                     ...   \n",
       "8111   圆球公主_【公主童话故事】_ 故事大全阅读频道   http://www.oesz.cn/a/gongzhu/855.html   \n",
       "8112                      白雪公主   http://www.oesz.cn/a/gongzhu/854.html   \n",
       "8113  骄做的公主_【公主童话故事】_ 故事大全阅读频道   http://www.oesz.cn/a/gongzhu/853.html   \n",
       "8114   苦命姑娘_【公主童话故事】_ 故事大全阅读频道   http://www.oesz.cn/a/gongzhu/852.html   \n",
       "8115                   通济桥头公主泪   http://www.oesz.cn/a/gongzhu/851.html   \n",
       "\n",
       "     category                                            content  \\\n",
       "0        睡前故事  \\n\\n\\t小男孩弗兰克非常健谈，如果他发现件新鲜东西，肯定会提出许多许多的问题来。他的母亲...   \n",
       "1        睡前故事  \\n\\n\\t酒爷爷与手套奶奶酒爷爷喝醉了酒，在路上抱了一只小狗回家。醒来后，酒爷爷看见一只小...   \n",
       "2        睡前故事  \\n\\n\\t南瓜哪儿去了_睡前故事“南瓜?”小兔子说，“请原谅我，我不知道南瓜是你家的，它就...   \n",
       "3        睡前故事  \\n\\n\\t蜘蛛夫妇的裁缝店蜘蛛先生发现了一个商机，它决定和他的夫人一起开一家裁缝店，蜘蛛太...   \n",
       "4        睡前故事  \\n\\n\\t小猫咪咪看着太阳好，于是在外面玩，但是它抓不到蝴蝶，于是看到蜻蜓抓到蝴蝶心里很不...   \n",
       "...       ...                                                ...   \n",
       "8111     故事大全  \\n\\n\\t有一天，王子照常在院子里的凉台上玩黄金球，抛抛转转。不一会儿，看见一个从来没有见...   \n",
       "8112     故事大全  \\n\\n\\t严冬时节，鹅毛一样的大雪片在天空中到处飞舞着，有一个王后坐在王宫里的一扇窗子边，...   \n",
       "8113     故事大全  \\n\\n\\t从前有一位非常漂亮的公主，但她也非常的骄做。人们都知道她是一位骄做的公主。很多王...   \n",
       "8114     故事大全  \\n\\n\\t苦命姑娘_【公主童话故事】_ 故事大全阅读频道相传，从前一位国王和王后有七个女孩...   \n",
       "8115     故事大全  \\n\\n\\t通济桥头公主泪跨于盘龙江支流水河上的通济桥，在今书林街口与同仁街口之间，它虽早已...   \n",
       "\n",
       "                                               combined  \\\n",
       "0     name: 沙漏的启示_睡前故事|content: 小男孩弗兰克非常健谈，如果他发现件新鲜东...   \n",
       "1     name: 酒爷爷与手套奶奶|content: 酒爷爷与手套奶奶酒爷爷喝醉了酒，在路上抱了一...   \n",
       "2     name: 南瓜哪儿去了_睡前故事|content: 南瓜哪儿去了_睡前故事“南瓜?”小兔子...   \n",
       "3     name: 蜘蛛夫妇的裁缝店|content: 蜘蛛夫妇的裁缝店蜘蛛先生发现了一个商机，它决...   \n",
       "4     name: 知错能改才能进步|content: 小猫咪咪看着太阳好，于是在外面玩，但是它抓不...   \n",
       "...                                                 ...   \n",
       "8111  name: 圆球公主_【公主童话故事】_ 故事大全阅读频道|content: 有一天，王子照...   \n",
       "8112  name: 白雪公主|content: 严冬时节，鹅毛一样的大雪片在天空中到处飞舞着，有一个...   \n",
       "8113  name: 骄做的公主_【公主童话故事】_ 故事大全阅读频道|content: 从前有一位非...   \n",
       "8114  name: 苦命姑娘_【公主童话故事】_ 故事大全阅读频道|content: 苦命姑娘_【公...   \n",
       "8115  name: 通济桥头公主泪|content: 通济桥头公主泪跨于盘龙江支流水河上的通济桥，在...   \n",
       "\n",
       "                                              embedding  \n",
       "0     [-0.00498313, 0.06906862, 0.021018654, -0.0089...  \n",
       "1                                                  None  \n",
       "2                                                  None  \n",
       "3                                                  None  \n",
       "4                                                  None  \n",
       "...                                                 ...  \n",
       "8111                                               None  \n",
       "8112                                               None  \n",
       "8113                                               None  \n",
       "8114                                               None  \n",
       "8115                                               None  \n",
       "\n",
       "[8116 rows x 6 columns]"
      ]
     },
     "execution_count": 87,
     "metadata": {},
     "output_type": "execute_result"
    }
   ],
   "source": [
    "df.loc[:, 'embedding'] = None\n",
    "\n",
    "df.at[0, 'embedding'] = encode(df.combined[0])[0]\n",
    "df"
   ]
  },
  {
   "cell_type": "code",
   "execution_count": 88,
   "metadata": {},
   "outputs": [
    {
     "name": "stdout",
     "output_type": "stream",
     "text": [
      "Processing row 0\n"
     ]
    },
    {
     "data": {
      "text/plain": [
       "[array([-0.00498313,  0.06906862,  0.02101865, ...,  0.00796567,\n",
       "         0.01396937,  0.00395185], dtype=float32),\n",
       " array([ 0.0116552 , -0.03210025, -0.01857175, ...,  0.00095958,\n",
       "        -0.01962594,  0.01796045], dtype=float32),\n",
       " array([ 0.03651097, -0.01062996,  0.0077906 , ...,  0.02704671,\n",
       "        -0.02432447, -0.02019073], dtype=float32),\n",
       " array([ 0.04392185,  0.02777353,  0.01988   , ...,  0.00897329,\n",
       "        -0.00743456, -0.00084875], dtype=float32),\n",
       " array([-0.01278089,  0.0137676 ,  0.02348899, ..., -0.00573102,\n",
       "        -0.02369383,  0.00437704], dtype=float32),\n",
       " array([ 0.03910792,  0.01769857,  0.00804373, ...,  0.03112897,\n",
       "        -0.00180959,  0.01069625], dtype=float32),\n",
       " array([ 0.01713266, -0.01267827,  0.01214441, ...,  0.03826563,\n",
       "        -0.00708288,  0.00719004], dtype=float32),\n",
       " array([ 0.01166246, -0.00011373,  0.00472806, ...,  0.00481325,\n",
       "        -0.00488158,  0.01568454], dtype=float32),\n",
       " array([ 0.02854568, -0.00621637,  0.00772317, ..., -0.00466084,\n",
       "        -0.01846726,  0.01169958], dtype=float32),\n",
       " array([-0.00018673,  0.015641  ,  0.02270082, ...,  0.01861596,\n",
       "         0.00473098, -0.00881319], dtype=float32)]"
      ]
     },
     "execution_count": 88,
     "metadata": {},
     "output_type": "execute_result"
    }
   ],
   "source": [
    "df.loc[:, 'embedding'] = None\n",
    "embeddings = []\n",
    "for i in range(10):\n",
    "    if i % 100 == 0:\n",
    "        print(f\"Processing row {i}\")\n",
    "    embeddings.extend(encode(df.combined[i]))\n",
    "\n",
    "embeddings"
   ]
  },
  {
   "cell_type": "code",
   "execution_count": 90,
   "metadata": {},
   "outputs": [
    {
     "name": "stdout",
     "output_type": "stream",
     "text": [
      "0\n",
      "1\n",
      "2\n",
      "3\n",
      "4\n",
      "5\n",
      "6\n",
      "7\n",
      "8\n",
      "9\n"
     ]
    }
   ],
   "source": [
    "for i, embedding in enumerate(embeddings):\n",
    "    print(i)\n",
    "    df.at[i, 'embedding'] = embedding"
   ]
  },
  {
   "cell_type": "code",
   "execution_count": 94,
   "metadata": {},
   "outputs": [],
   "source": [
    "df.to_csv(\"stories/stories_cn_oesz_embeddings.csv\", index=False)"
   ]
  }
 ],
 "metadata": {
  "kernelspec": {
   "display_name": "GPT_RAG",
   "language": "python",
   "name": "python3"
  },
  "language_info": {
   "codemirror_mode": {
    "name": "ipython",
    "version": 3
   },
   "file_extension": ".py",
   "mimetype": "text/x-python",
   "name": "python",
   "nbconvert_exporter": "python",
   "pygments_lexer": "ipython3",
   "version": "3.11.9"
  }
 },
 "nbformat": 4,
 "nbformat_minor": 2
}
