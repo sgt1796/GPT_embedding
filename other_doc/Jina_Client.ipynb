{
 "cells": [
  {
   "cell_type": "markdown",
   "metadata": {},
   "source": [
    "```bash\n",
    "stoneye_ssh 34.70.106.106 --port 1129\n",
    "\n",
    "## OR\n",
    "ssh -i ~/.ssh/stoneye -L 1129:0.0.0.0:1129 sgt1796@34.70.106.106\n",
    "```\n",
    "\n",
    "on server:\n",
    "```bash\n",
    "source jina/bin/activate\n",
    "cd GPT_embedding/\n",
    "python3 Jina_API.py\n",
    "```"
   ]
  },
  {
   "cell_type": "code",
   "execution_count": 10,
   "metadata": {},
   "outputs": [
    {
     "data": {
      "text/html": [
       "<pre style=\"white-space:pre;overflow-x:auto;line-height:normal;font-family:Menlo,'DejaVu Sans Mono',consolas,'Courier New',monospace\"><span style=\"color: #800000; text-decoration-color: #800000; font-weight: bold\">ERROR </span> GRPCClient@<span style=\"color: #008080; text-decoration-color: #008080; font-weight: bold\">11024</span> gRPC error: StatusCode.UNAVAILABLE failed to connect to all addresses;  <span style=\"color: #7f7f7f; text-decoration-color: #7f7f7f\">[09/30/24 01:27:43]</span>\n",
       "       last error: UNAVAILABLE: ipv<span style=\"color: #00ff00; text-decoration-color: #00ff00; font-weight: bold\">4:127</span>.<span style=\"color: #008080; text-decoration-color: #008080; font-weight: bold\">0.0</span>.<span style=\"color: #00ff00; text-decoration-color: #00ff00; font-weight: bold\">1:1129</span>: End of TCP stream                          <span style=\"color: #7f7f7f; text-decoration-color: #7f7f7f\">                   </span>\n",
       "       <span style=\"color: #800080; text-decoration-color: #800080; font-style: italic\">None</span>                                                                                     <span style=\"color: #7f7f7f; text-decoration-color: #7f7f7f\">                   </span>\n",
       "       The ongoing request is terminated as the server is not available or closed already.      <span style=\"color: #7f7f7f; text-decoration-color: #7f7f7f\">                   </span>\n",
       "</pre>\n"
      ],
      "text/plain": [
       "\u001b[1;31mERROR \u001b[0m GRPCClient@\u001b[1;36m11024\u001b[0m gRPC error: StatusCode.UNAVAILABLE failed to connect to all addresses;  \u001b[2m[09/30/24 01:27:43]\u001b[0m\n",
       "       last error: UNAVAILABLE: ipv\u001b[1;92m4:127\u001b[0m.\u001b[1;36m0.0\u001b[0m.\u001b[1;92m1:1129\u001b[0m: End of TCP stream                          \u001b[2m                   \u001b[0m\n",
       "       \u001b[3;35mNone\u001b[0m                                                                                     \u001b[2m                   \u001b[0m\n",
       "       The ongoing request is terminated as the server is not available or closed already.      \u001b[2m                   \u001b[0m\n"
      ]
     },
     "metadata": {},
     "output_type": "display_data"
    },
    {
     "name": "stderr",
     "output_type": "stream",
     "text": [
      "Exception in thread Thread-30:\n",
      "Traceback (most recent call last):\n",
      "  File \"c:\\Users\\sgt17\\OneDrive\\Desktop\\RAG_system\\GPT_embedding\\.conda\\Lib\\site-packages\\jina\\clients\\base\\grpc.py\", line 145, in _get_results\n",
      "    async for (\n",
      "  File \"c:\\Users\\sgt17\\OneDrive\\Desktop\\RAG_system\\GPT_embedding\\.conda\\Lib\\site-packages\\jina\\clients\\base\\stream_rpc.py\", line 51, in stream_rpc_with_retry\n",
      "    async for resp in stub.Call(\n",
      "  File \"c:\\Users\\sgt17\\OneDrive\\Desktop\\RAG_system\\GPT_embedding\\.conda\\Lib\\site-packages\\grpc\\aio\\_call.py\", line 344, in _fetch_stream_responses\n",
      "    await self._raise_for_status()\n",
      "  File \"c:\\Users\\sgt17\\OneDrive\\Desktop\\RAG_system\\GPT_embedding\\.conda\\Lib\\site-packages\\grpc\\aio\\_call.py\", line 251, in _raise_for_status\n",
      "    raise _create_rpc_error(\n",
      "grpc.aio._call.AioRpcError: <AioRpcError of RPC that terminated with:\n",
      "\tstatus = StatusCode.UNAVAILABLE\n",
      "\tdetails = \"failed to connect to all addresses; last error: UNAVAILABLE: ipv4:127.0.0.1:1129: End of TCP stream\"\n",
      "\tdebug_error_string = \"UNKNOWN:failed to connect to all addresses; last error: UNAVAILABLE: ipv4:127.0.0.1:1129: End of TCP stream {created_time:\"2024-09-30T05:27:43.46682037+00:00\", grpc_status:14}\"\n",
      ">\n",
      "\n",
      "During handling of the above exception, another exception occurred:\n",
      "\n",
      "Traceback (most recent call last):\n",
      "  File \"c:\\Users\\sgt17\\OneDrive\\Desktop\\RAG_system\\GPT_embedding\\.conda\\Lib\\threading.py\", line 1045, in _bootstrap_inner\n",
      "    self.run()\n",
      "  File \"c:\\Users\\sgt17\\OneDrive\\Desktop\\RAG_system\\GPT_embedding\\.conda\\Lib\\site-packages\\jina\\helper.py\", line 1297, in run\n",
      "    self.result = asyncio.run(func(*args, **kwargs))\n",
      "                  ^^^^^^^^^^^^^^^^^^^^^^^^^^^^^^^^^^\n",
      "  File \"c:\\Users\\sgt17\\OneDrive\\Desktop\\RAG_system\\GPT_embedding\\.conda\\Lib\\asyncio\\runners.py\", line 190, in run\n",
      "    return runner.run(main)\n",
      "           ^^^^^^^^^^^^^^^^\n",
      "  File \"c:\\Users\\sgt17\\OneDrive\\Desktop\\RAG_system\\GPT_embedding\\.conda\\Lib\\asyncio\\runners.py\", line 118, in run\n",
      "    return self._loop.run_until_complete(task)\n",
      "           ^^^^^^^^^^^^^^^^^^^^^^^^^^^^^^^^^^^\n",
      "  File \"c:\\Users\\sgt17\\OneDrive\\Desktop\\RAG_system\\GPT_embedding\\.conda\\Lib\\asyncio\\base_events.py\", line 654, in run_until_complete\n",
      "    return future.result()\n",
      "           ^^^^^^^^^^^^^^^\n",
      "  File \"c:\\Users\\sgt17\\OneDrive\\Desktop\\RAG_system\\GPT_embedding\\.conda\\Lib\\site-packages\\jina\\clients\\mixin.py\", line 410, in _get_results\n",
      "    async for resp in c._get_results(*args, **kwargs):\n",
      "  File \"c:\\Users\\sgt17\\OneDrive\\Desktop\\RAG_system\\GPT_embedding\\.conda\\Lib\\site-packages\\jina\\clients\\base\\grpc.py\", line 174, in _get_results\n",
      "    await self._handle_error_and_metadata(err)\n",
      "  File \"c:\\Users\\sgt17\\OneDrive\\Desktop\\RAG_system\\GPT_embedding\\.conda\\Lib\\site-packages\\jina\\clients\\base\\grpc.py\", line 193, in _handle_error_and_metadata\n",
      "    raise ConnectionError(msg)\n",
      "ConnectionError: gRPC error: StatusCode.UNAVAILABLE failed to connect to all addresses; last error: UNAVAILABLE: ipv4:127.0.0.1:1129: End of TCP stream\n",
      "None\n"
     ]
    },
    {
     "ename": "BadClient",
     "evalue": "something wrong when running the eventloop, result can not be retrieved",
     "output_type": "error",
     "traceback": [
      "\u001b[1;31m---------------------------------------------------------------------------\u001b[0m",
      "\u001b[1;31mAttributeError\u001b[0m                            Traceback (most recent call last)",
      "File \u001b[1;32mc:\\Users\\sgt17\\OneDrive\\Desktop\\RAG_system\\GPT_embedding\\.conda\\Lib\\site-packages\\jina\\helper.py:1311\u001b[0m, in \u001b[0;36mrun_async\u001b[1;34m(func, *args, **kwargs)\u001b[0m\n\u001b[0;32m   1310\u001b[0m \u001b[38;5;28;01mtry\u001b[39;00m:\n\u001b[1;32m-> 1311\u001b[0m     \u001b[38;5;28;01mreturn\u001b[39;00m \u001b[43mthread\u001b[49m\u001b[38;5;241;43m.\u001b[39;49m\u001b[43mresult\u001b[49m\n\u001b[0;32m   1312\u001b[0m \u001b[38;5;28;01mexcept\u001b[39;00m \u001b[38;5;167;01mAttributeError\u001b[39;00m:\n",
      "\u001b[1;31mAttributeError\u001b[0m: '_RunThread' object has no attribute 'result'",
      "\nDuring handling of the above exception, another exception occurred:\n",
      "\u001b[1;31mBadClient\u001b[0m                                 Traceback (most recent call last)",
      "Cell \u001b[1;32mIn[10], line 22\u001b[0m\n\u001b[0;32m     15\u001b[0m inputs \u001b[38;5;241m=\u001b[39m DocList([\n\u001b[0;32m     16\u001b[0m     TestDoc(text\u001b[38;5;241m=\u001b[39m\u001b[38;5;124m\"\u001b[39m\u001b[38;5;124mI\u001b[39m\u001b[38;5;124m'\u001b[39m\u001b[38;5;124mm a bear!\u001b[39m\u001b[38;5;124m\"\u001b[39m),\n\u001b[0;32m     17\u001b[0m     TestDoc(text\u001b[38;5;241m=\u001b[39m\u001b[38;5;124m\"\u001b[39m\u001b[38;5;124mI\u001b[39m\u001b[38;5;124m'\u001b[39m\u001b[38;5;124mm a rabbit!\u001b[39m\u001b[38;5;124m\"\u001b[39m),\n\u001b[0;32m     18\u001b[0m     TestDoc(text\u001b[38;5;241m=\u001b[39m\u001b[38;5;124m\"\u001b[39m\u001b[38;5;124mExploring the forest together.\u001b[39m\u001b[38;5;124m\"\u001b[39m)\n\u001b[0;32m     19\u001b[0m ])\n\u001b[0;32m     21\u001b[0m \u001b[38;5;66;03m# Make the request to the '/create' endpoint\u001b[39;00m\n\u001b[1;32m---> 22\u001b[0m results \u001b[38;5;241m=\u001b[39m \u001b[43mc\u001b[49m\u001b[38;5;241;43m.\u001b[39;49m\u001b[43mpost\u001b[49m\u001b[43m(\u001b[49m\n\u001b[0;32m     23\u001b[0m \u001b[43m    \u001b[49m\u001b[43mon\u001b[49m\u001b[38;5;241;43m=\u001b[39;49m\u001b[38;5;124;43m'\u001b[39;49m\u001b[38;5;124;43m/create\u001b[39;49m\u001b[38;5;124;43m'\u001b[39;49m\u001b[43m,\u001b[49m\u001b[43m  \u001b[49m\u001b[38;5;66;43;03m# Endpoint defined in your Executor\u001b[39;49;00m\n\u001b[0;32m     24\u001b[0m \u001b[43m    \u001b[49m\u001b[43minputs\u001b[49m\u001b[38;5;241;43m=\u001b[39;49m\u001b[43minputs\u001b[49m\u001b[43m,\u001b[49m\u001b[43m  \u001b[49m\u001b[38;5;66;43;03m# List of documents with text to be embedded\u001b[39;49;00m\n\u001b[0;32m     25\u001b[0m \u001b[43m    \u001b[49m\u001b[43mreturn_type\u001b[49m\u001b[38;5;241;43m=\u001b[39;49m\u001b[43mDocList\u001b[49m\u001b[43m[\u001b[49m\u001b[43mTestDoc\u001b[49m\u001b[43m]\u001b[49m\u001b[43m  \u001b[49m\u001b[38;5;66;43;03m# Return type to specify it returns a DocList of TestDoc\u001b[39;49;00m\n\u001b[0;32m     26\u001b[0m \u001b[43m)\u001b[49m\n\u001b[0;32m     28\u001b[0m \u001b[38;5;66;03m# Print the results\u001b[39;00m\n\u001b[0;32m     29\u001b[0m \u001b[38;5;28;01mfor\u001b[39;00m doc \u001b[38;5;129;01min\u001b[39;00m results:\n",
      "File \u001b[1;32mc:\\Users\\sgt17\\OneDrive\\Desktop\\RAG_system\\GPT_embedding\\.conda\\Lib\\site-packages\\jina\\clients\\mixin.py:424\u001b[0m, in \u001b[0;36mPostMixin.post\u001b[1;34m(self, on, inputs, on_done, on_error, on_always, parameters, target_executor, request_size, show_progress, continue_on_error, return_responses, max_attempts, initial_backoff, max_backoff, backoff_multiplier, results_in_order, stream, prefetch, return_type, **kwargs)\u001b[0m\n\u001b[0;32m    421\u001b[0m         \u001b[38;5;28;01melse\u001b[39;00m:\n\u001b[0;32m    422\u001b[0m             \u001b[38;5;28;01mreturn\u001b[39;00m result\n\u001b[1;32m--> 424\u001b[0m \u001b[38;5;28;01mreturn\u001b[39;00m \u001b[38;5;28;43mself\u001b[39;49m\u001b[38;5;241;43m.\u001b[39;49m\u001b[43m_with_retry\u001b[49m\u001b[43m(\u001b[49m\n\u001b[0;32m    425\u001b[0m \u001b[43m    \u001b[49m\u001b[43mfunc\u001b[49m\u001b[38;5;241;43m=\u001b[39;49m\u001b[43m_get_results\u001b[49m\u001b[43m,\u001b[49m\n\u001b[0;32m    426\u001b[0m \u001b[43m    \u001b[49m\u001b[43minputs\u001b[49m\u001b[38;5;241;43m=\u001b[39;49m\u001b[43minputs\u001b[49m\u001b[43m,\u001b[49m\n\u001b[0;32m    427\u001b[0m \u001b[43m    \u001b[49m\u001b[43mon_done\u001b[49m\u001b[38;5;241;43m=\u001b[39;49m\u001b[43mon_done\u001b[49m\u001b[43m,\u001b[49m\n\u001b[0;32m    428\u001b[0m \u001b[43m    \u001b[49m\u001b[43mon_error\u001b[49m\u001b[38;5;241;43m=\u001b[39;49m\u001b[43mon_error\u001b[49m\u001b[43m,\u001b[49m\n\u001b[0;32m    429\u001b[0m \u001b[43m    \u001b[49m\u001b[43mon_always\u001b[49m\u001b[38;5;241;43m=\u001b[39;49m\u001b[43mon_always\u001b[49m\u001b[43m,\u001b[49m\n\u001b[0;32m    430\u001b[0m \u001b[43m    \u001b[49m\u001b[43mexec_endpoint\u001b[49m\u001b[38;5;241;43m=\u001b[39;49m\u001b[43mon\u001b[49m\u001b[43m,\u001b[49m\n\u001b[0;32m    431\u001b[0m \u001b[43m    \u001b[49m\u001b[43mtarget_executor\u001b[49m\u001b[38;5;241;43m=\u001b[39;49m\u001b[43mtarget_executor\u001b[49m\u001b[43m,\u001b[49m\n\u001b[0;32m    432\u001b[0m \u001b[43m    \u001b[49m\u001b[43mparameters\u001b[49m\u001b[38;5;241;43m=\u001b[39;49m\u001b[43mparameters\u001b[49m\u001b[43m,\u001b[49m\n\u001b[0;32m    433\u001b[0m \u001b[43m    \u001b[49m\u001b[43mrequest_size\u001b[49m\u001b[38;5;241;43m=\u001b[39;49m\u001b[43mrequest_size\u001b[49m\u001b[43m,\u001b[49m\n\u001b[0;32m    434\u001b[0m \u001b[43m    \u001b[49m\u001b[43mmax_attempts\u001b[49m\u001b[38;5;241;43m=\u001b[39;49m\u001b[38;5;28;43mmax\u001b[39;49m\u001b[43m(\u001b[49m\u001b[43mmax_attempts\u001b[49m\u001b[43m,\u001b[49m\u001b[43m \u001b[49m\u001b[38;5;241;43m1\u001b[39;49m\u001b[43m)\u001b[49m\u001b[43m,\u001b[49m\n\u001b[0;32m    435\u001b[0m \u001b[43m    \u001b[49m\u001b[43minitial_backoff\u001b[49m\u001b[38;5;241;43m=\u001b[39;49m\u001b[43minitial_backoff\u001b[49m\u001b[43m,\u001b[49m\n\u001b[0;32m    436\u001b[0m \u001b[43m    \u001b[49m\u001b[43mmax_backoff\u001b[49m\u001b[38;5;241;43m=\u001b[39;49m\u001b[43mmax_backoff\u001b[49m\u001b[43m,\u001b[49m\n\u001b[0;32m    437\u001b[0m \u001b[43m    \u001b[49m\u001b[43mbackoff_multiplier\u001b[49m\u001b[38;5;241;43m=\u001b[39;49m\u001b[43mbackoff_multiplier\u001b[49m\u001b[43m,\u001b[49m\n\u001b[0;32m    438\u001b[0m \u001b[43m    \u001b[49m\u001b[43mresults_in_order\u001b[49m\u001b[38;5;241;43m=\u001b[39;49m\u001b[43mresults_in_order\u001b[49m\u001b[43m,\u001b[49m\n\u001b[0;32m    439\u001b[0m \u001b[43m    \u001b[49m\u001b[43mstream\u001b[49m\u001b[38;5;241;43m=\u001b[39;49m\u001b[43mstream\u001b[49m\u001b[43m,\u001b[49m\n\u001b[0;32m    440\u001b[0m \u001b[43m    \u001b[49m\u001b[43mprefetch\u001b[49m\u001b[38;5;241;43m=\u001b[39;49m\u001b[43mprefetch\u001b[49m\u001b[43m,\u001b[49m\n\u001b[0;32m    441\u001b[0m \u001b[43m    \u001b[49m\u001b[43mreturn_type\u001b[49m\u001b[38;5;241;43m=\u001b[39;49m\u001b[43mreturn_type\u001b[49m\u001b[43m,\u001b[49m\n\u001b[0;32m    442\u001b[0m \u001b[43m    \u001b[49m\u001b[43mon\u001b[49m\u001b[38;5;241;43m=\u001b[39;49m\u001b[43mon\u001b[49m\u001b[43m,\u001b[49m\n\u001b[0;32m    443\u001b[0m \u001b[43m    \u001b[49m\u001b[38;5;241;43m*\u001b[39;49m\u001b[38;5;241;43m*\u001b[39;49m\u001b[43mkwargs\u001b[49m\u001b[43m,\u001b[49m\n\u001b[0;32m    444\u001b[0m \u001b[43m\u001b[49m\u001b[43m)\u001b[49m\n",
      "File \u001b[1;32mc:\\Users\\sgt17\\OneDrive\\Desktop\\RAG_system\\GPT_embedding\\.conda\\Lib\\site-packages\\jina\\clients\\mixin.py:280\u001b[0m, in \u001b[0;36mPostMixin._with_retry\u001b[1;34m(self, func, inputs, on_done, on_error, on_always, exec_endpoint, target_executor, parameters, request_size, max_attempts, initial_backoff, max_backoff, backoff_multiplier, results_in_order, stream, prefetch, **kwargs)\u001b[0m\n\u001b[0;32m    270\u001b[0m             run_async(\n\u001b[0;32m    271\u001b[0m                 wait_or_raise_err,\n\u001b[0;32m    272\u001b[0m                 attempt\u001b[38;5;241m=\u001b[39mattempt,\n\u001b[1;32m   (...)\u001b[0m\n\u001b[0;32m    277\u001b[0m                 max_backoff\u001b[38;5;241m=\u001b[39mmax_backoff,\n\u001b[0;32m    278\u001b[0m             )\n\u001b[0;32m    279\u001b[0m \u001b[38;5;28;01melse\u001b[39;00m:\n\u001b[1;32m--> 280\u001b[0m     \u001b[38;5;28;01mreturn\u001b[39;00m \u001b[43mPostMixin\u001b[49m\u001b[38;5;241;43m.\u001b[39;49m\u001b[43m_run_async\u001b[49m\u001b[43m(\u001b[49m\n\u001b[0;32m    281\u001b[0m \u001b[43m        \u001b[49m\u001b[43mbackoff_multiplier\u001b[49m\u001b[43m,\u001b[49m\n\u001b[0;32m    282\u001b[0m \u001b[43m        \u001b[49m\u001b[43mexec_endpoint\u001b[49m\u001b[43m,\u001b[49m\n\u001b[0;32m    283\u001b[0m \u001b[43m        \u001b[49m\u001b[43mfunc\u001b[49m\u001b[43m,\u001b[49m\n\u001b[0;32m    284\u001b[0m \u001b[43m        \u001b[49m\u001b[43minitial_backoff\u001b[49m\u001b[43m,\u001b[49m\n\u001b[0;32m    285\u001b[0m \u001b[43m        \u001b[49m\u001b[43minputs\u001b[49m\u001b[43m,\u001b[49m\n\u001b[0;32m    286\u001b[0m \u001b[43m        \u001b[49m\u001b[43mkwargs\u001b[49m\u001b[43m,\u001b[49m\n\u001b[0;32m    287\u001b[0m \u001b[43m        \u001b[49m\u001b[43mmax_attempts\u001b[49m\u001b[43m,\u001b[49m\n\u001b[0;32m    288\u001b[0m \u001b[43m        \u001b[49m\u001b[43mmax_backoff\u001b[49m\u001b[43m,\u001b[49m\n\u001b[0;32m    289\u001b[0m \u001b[43m        \u001b[49m\u001b[43mon_always\u001b[49m\u001b[43m,\u001b[49m\n\u001b[0;32m    290\u001b[0m \u001b[43m        \u001b[49m\u001b[43mon_done\u001b[49m\u001b[43m,\u001b[49m\n\u001b[0;32m    291\u001b[0m \u001b[43m        \u001b[49m\u001b[43mon_error\u001b[49m\u001b[43m,\u001b[49m\n\u001b[0;32m    292\u001b[0m \u001b[43m        \u001b[49m\u001b[43mparameters\u001b[49m\u001b[43m,\u001b[49m\n\u001b[0;32m    293\u001b[0m \u001b[43m        \u001b[49m\u001b[43mprefetch\u001b[49m\u001b[43m,\u001b[49m\n\u001b[0;32m    294\u001b[0m \u001b[43m        \u001b[49m\u001b[43mrequest_size\u001b[49m\u001b[43m,\u001b[49m\n\u001b[0;32m    295\u001b[0m \u001b[43m        \u001b[49m\u001b[43mresults_in_order\u001b[49m\u001b[43m,\u001b[49m\n\u001b[0;32m    296\u001b[0m \u001b[43m        \u001b[49m\u001b[43mstream\u001b[49m\u001b[43m,\u001b[49m\n\u001b[0;32m    297\u001b[0m \u001b[43m        \u001b[49m\u001b[43mtarget_executor\u001b[49m\u001b[43m,\u001b[49m\n\u001b[0;32m    298\u001b[0m \u001b[43m    \u001b[49m\u001b[43m)\u001b[49m\n",
      "File \u001b[1;32mc:\\Users\\sgt17\\OneDrive\\Desktop\\RAG_system\\GPT_embedding\\.conda\\Lib\\site-packages\\jina\\clients\\mixin.py:320\u001b[0m, in \u001b[0;36mPostMixin._run_async\u001b[1;34m(backoff_multiplier, exec_endpoint, func, initial_backoff, inputs, kwargs, max_attempts, max_backoff, on_always, on_done, on_error, parameters, prefetch, request_size, results_in_order, stream, target_executor)\u001b[0m\n\u001b[0;32m    300\u001b[0m \u001b[38;5;129m@staticmethod\u001b[39m\n\u001b[0;32m    301\u001b[0m \u001b[38;5;28;01mdef\u001b[39;00m \u001b[38;5;21m_run_async\u001b[39m(\n\u001b[0;32m    302\u001b[0m     backoff_multiplier,\n\u001b[1;32m   (...)\u001b[0m\n\u001b[0;32m    318\u001b[0m     target_executor,\n\u001b[0;32m    319\u001b[0m ):\n\u001b[1;32m--> 320\u001b[0m     \u001b[38;5;28;01mreturn\u001b[39;00m \u001b[43mrun_async\u001b[49m\u001b[43m(\u001b[49m\n\u001b[0;32m    321\u001b[0m \u001b[43m        \u001b[49m\u001b[43mfunc\u001b[49m\u001b[43m,\u001b[49m\n\u001b[0;32m    322\u001b[0m \u001b[43m        \u001b[49m\u001b[43minputs\u001b[49m\u001b[38;5;241;43m=\u001b[39;49m\u001b[43minputs\u001b[49m\u001b[43m,\u001b[49m\n\u001b[0;32m    323\u001b[0m \u001b[43m        \u001b[49m\u001b[43mon_done\u001b[49m\u001b[38;5;241;43m=\u001b[39;49m\u001b[43mon_done\u001b[49m\u001b[43m,\u001b[49m\n\u001b[0;32m    324\u001b[0m \u001b[43m        \u001b[49m\u001b[43mon_error\u001b[49m\u001b[38;5;241;43m=\u001b[39;49m\u001b[43mon_error\u001b[49m\u001b[43m,\u001b[49m\n\u001b[0;32m    325\u001b[0m \u001b[43m        \u001b[49m\u001b[43mon_always\u001b[49m\u001b[38;5;241;43m=\u001b[39;49m\u001b[43mon_always\u001b[49m\u001b[43m,\u001b[49m\n\u001b[0;32m    326\u001b[0m \u001b[43m        \u001b[49m\u001b[43mexec_endpoint\u001b[49m\u001b[38;5;241;43m=\u001b[39;49m\u001b[43mexec_endpoint\u001b[49m\u001b[43m,\u001b[49m\n\u001b[0;32m    327\u001b[0m \u001b[43m        \u001b[49m\u001b[43mtarget_executor\u001b[49m\u001b[38;5;241;43m=\u001b[39;49m\u001b[43mtarget_executor\u001b[49m\u001b[43m,\u001b[49m\n\u001b[0;32m    328\u001b[0m \u001b[43m        \u001b[49m\u001b[43mparameters\u001b[49m\u001b[38;5;241;43m=\u001b[39;49m\u001b[43mparameters\u001b[49m\u001b[43m,\u001b[49m\n\u001b[0;32m    329\u001b[0m \u001b[43m        \u001b[49m\u001b[43mrequest_size\u001b[49m\u001b[38;5;241;43m=\u001b[39;49m\u001b[43mrequest_size\u001b[49m\u001b[43m,\u001b[49m\n\u001b[0;32m    330\u001b[0m \u001b[43m        \u001b[49m\u001b[43mmax_attempts\u001b[49m\u001b[38;5;241;43m=\u001b[39;49m\u001b[43mmax_attempts\u001b[49m\u001b[43m,\u001b[49m\n\u001b[0;32m    331\u001b[0m \u001b[43m        \u001b[49m\u001b[43minitial_backoff\u001b[49m\u001b[38;5;241;43m=\u001b[39;49m\u001b[43minitial_backoff\u001b[49m\u001b[43m,\u001b[49m\n\u001b[0;32m    332\u001b[0m \u001b[43m        \u001b[49m\u001b[43mmax_backoff\u001b[49m\u001b[38;5;241;43m=\u001b[39;49m\u001b[43mmax_backoff\u001b[49m\u001b[43m,\u001b[49m\n\u001b[0;32m    333\u001b[0m \u001b[43m        \u001b[49m\u001b[43mbackoff_multiplier\u001b[49m\u001b[38;5;241;43m=\u001b[39;49m\u001b[43mbackoff_multiplier\u001b[49m\u001b[43m,\u001b[49m\n\u001b[0;32m    334\u001b[0m \u001b[43m        \u001b[49m\u001b[43mresults_in_order\u001b[49m\u001b[38;5;241;43m=\u001b[39;49m\u001b[43mresults_in_order\u001b[49m\u001b[43m,\u001b[49m\n\u001b[0;32m    335\u001b[0m \u001b[43m        \u001b[49m\u001b[43mstream\u001b[49m\u001b[38;5;241;43m=\u001b[39;49m\u001b[43mstream\u001b[49m\u001b[43m,\u001b[49m\n\u001b[0;32m    336\u001b[0m \u001b[43m        \u001b[49m\u001b[43mprefetch\u001b[49m\u001b[38;5;241;43m=\u001b[39;49m\u001b[43mprefetch\u001b[49m\u001b[43m,\u001b[49m\n\u001b[0;32m    337\u001b[0m \u001b[43m        \u001b[49m\u001b[38;5;241;43m*\u001b[39;49m\u001b[38;5;241;43m*\u001b[39;49m\u001b[43mkwargs\u001b[49m\u001b[43m,\u001b[49m\n\u001b[0;32m    338\u001b[0m \u001b[43m    \u001b[49m\u001b[43m)\u001b[49m\n",
      "File \u001b[1;32mc:\\Users\\sgt17\\OneDrive\\Desktop\\RAG_system\\GPT_embedding\\.conda\\Lib\\site-packages\\jina\\helper.py:1315\u001b[0m, in \u001b[0;36mrun_async\u001b[1;34m(func, *args, **kwargs)\u001b[0m\n\u001b[0;32m   1312\u001b[0m     \u001b[38;5;28;01mexcept\u001b[39;00m \u001b[38;5;167;01mAttributeError\u001b[39;00m:\n\u001b[0;32m   1313\u001b[0m         \u001b[38;5;28;01mfrom\u001b[39;00m \u001b[38;5;21;01mjina\u001b[39;00m\u001b[38;5;21;01m.\u001b[39;00m\u001b[38;5;21;01mexcepts\u001b[39;00m \u001b[38;5;28;01mimport\u001b[39;00m BadClient\n\u001b[1;32m-> 1315\u001b[0m         \u001b[38;5;28;01mraise\u001b[39;00m BadClient(\n\u001b[0;32m   1316\u001b[0m             \u001b[38;5;124m'\u001b[39m\u001b[38;5;124msomething wrong when running the eventloop, result can not be retrieved\u001b[39m\u001b[38;5;124m'\u001b[39m\n\u001b[0;32m   1317\u001b[0m         )\n\u001b[0;32m   1318\u001b[0m \u001b[38;5;28;01melse\u001b[39;00m:\n\u001b[0;32m   1319\u001b[0m     \u001b[38;5;28;01mreturn\u001b[39;00m asyncio\u001b[38;5;241m.\u001b[39mrun(func(\u001b[38;5;241m*\u001b[39margs, \u001b[38;5;241m*\u001b[39m\u001b[38;5;241m*\u001b[39mkwargs))\n",
      "\u001b[1;31mBadClient\u001b[0m: something wrong when running the eventloop, result can not be retrieved"
     ]
    }
   ],
   "source": [
    "from jina import Client\n",
    "from docarray import DocList, BaseDoc\n",
    "from docarray.typing import NdArray\n",
    "import numpy as np\n",
    "from docarray.typing.tensor.embedding.embedding import AnyEmbedding\n",
    "\n",
    "class TestDoc(BaseDoc):\n",
    "    text: str = None\n",
    "    embedding: AnyEmbedding = np.zeros((1024, ))\n",
    "\n",
    "# Create a Jina client to connect to the deployed service\n",
    "c = Client(host=\"localhost\", port=1129)\n",
    "\n",
    "# Define the inputs to be embedded\n",
    "inputs = DocList([\n",
    "    TestDoc(text=\"I'm a bear!\"),\n",
    "    TestDoc(text=\"I'm a rabbit!\"),\n",
    "    TestDoc(text=\"Exploring the forest together.\")\n",
    "])\n",
    "\n",
    "# Make the request to the '/create' endpoint\n",
    "results = c.post(\n",
    "    on='/create',  # Endpoint defined in your Executor\n",
    "    inputs=inputs,  # List of documents with text to be embedded\n",
    "    return_type=DocList[TestDoc]  # Return type to specify it returns a DocList of TestDoc\n",
    ")\n",
    "\n",
    "# Print the results\n",
    "for doc in results:\n",
    "    print(f\"Text: {doc.text}\")\n",
    "    print(f\"Embedding: {doc.embedding}\\n\")"
   ]
  }
 ],
 "metadata": {
  "kernelspec": {
   "display_name": "Python 3",
   "language": "python",
   "name": "python3"
  },
  "language_info": {
   "codemirror_mode": {
    "name": "ipython",
    "version": 3
   },
   "file_extension": ".py",
   "mimetype": "text/x-python",
   "name": "python",
   "nbconvert_exporter": "python",
   "pygments_lexer": "ipython3",
   "version": "3.11.9"
  }
 },
 "nbformat": 4,
 "nbformat_minor": 2
}
